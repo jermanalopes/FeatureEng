{
  "nbformat": 4,
  "nbformat_minor": 0,
  "metadata": {
    "colab": {
      "provenance": [],
      "authorship_tag": "ABX9TyNfBtv7BVV3+RYzgSMMHewA",
      "include_colab_link": true
    },
    "kernelspec": {
      "name": "python3",
      "display_name": "Python 3"
    },
    "language_info": {
      "name": "python"
    }
  },
  "cells": [
    {
      "cell_type": "markdown",
      "metadata": {
        "id": "view-in-github",
        "colab_type": "text"
      },
      "source": [
        "<a href=\"https://colab.research.google.com/github/jermanalopes/FeatureEng/blob/main/Imbalanced_data.ipynb\" target=\"_parent\"><img src=\"https://colab.research.google.com/assets/colab-badge.svg\" alt=\"Open In Colab\"/></a>"
      ]
    },
    {
      "cell_type": "code",
      "execution_count": 23,
      "metadata": {
        "id": "PwW8-0SC2-62"
      },
      "outputs": [],
      "source": [
        "import pandas as pd\n",
        "import numpy as np\n",
        "from collections import Counter\n",
        "from sklearn.preprocessing import LabelEncoder\n",
        "from imblearn.over_sampling import SMOTENC"
      ]
    },
    {
      "cell_type": "code",
      "source": [
        "data = pd.read_csv('credit_simple.csv', sep=';')\n",
        "data.head()\n",
        "data.shape\n",
        "count_class = data.groupby('CLASSE').size()\n",
        "count_class\n",
        "output = data['CLASSE'].values\n",
        "inputs = data.iloc[:,:-1].values"
      ],
      "metadata": {
        "id": "166rsEjY3N0c"
      },
      "execution_count": 13,
      "outputs": []
    },
    {
      "cell_type": "code",
      "source": [
        "labelencoder = LabelEncoder()\n",
        "for i in range(inputs.shape[1]):\n",
        "  if inputs[:,i].dtype == 'object':\n",
        "    inputs[:,i] = labelencoder.fit_transform(inputs[:,i])\n"
      ],
      "metadata": {
        "id": "VZjqLHoW4tJr"
      },
      "execution_count": 14,
      "outputs": []
    },
    {
      "cell_type": "code",
      "source": [
        "sm = SMOTENC(categorical_features=[3,5,6], random_state=0)\n",
        "X_res, y_res = sm.fit_resample(inputs, output)\n",
        "count_class = Counter(y_res)\n",
        "print(count_class)"
      ],
      "metadata": {
        "colab": {
          "base_uri": "https://localhost:8080/"
        },
        "id": "UkFkK_gJ5jrZ",
        "outputId": "70c9bee8-c150-484f-806e-7f375231f417"
      },
      "execution_count": 24,
      "outputs": [
        {
          "output_type": "stream",
          "name": "stdout",
          "text": [
            "Counter({'bom': 700, 'ruim': 700})\n"
          ]
        }
      ]
    },
    {
      "cell_type": "code",
      "source": [],
      "metadata": {
        "id": "Lf13Kgml6aqp"
      },
      "execution_count": null,
      "outputs": []
    }
  ]
}