{
  "nbformat": 4,
  "nbformat_minor": 0,
  "metadata": {
    "colab": {
      "provenance": [],
      "authorship_tag": "ABX9TyOe107BIOl7yRl2OFjSFxWD",
      "include_colab_link": true
    },
    "kernelspec": {
      "name": "python3",
      "display_name": "Python 3"
    },
    "language_info": {
      "name": "python"
    }
  },
  "cells": [
    {
      "cell_type": "markdown",
      "metadata": {
        "id": "view-in-github",
        "colab_type": "text"
      },
      "source": [
        "<a href=\"https://colab.research.google.com/github/jermanalopes/FeatureEng/blob/main/FeatureSelection.ipynb\" target=\"_parent\"><img src=\"https://colab.research.google.com/assets/colab-badge.svg\" alt=\"Open In Colab\"/></a>"
      ]
    },
    {
      "cell_type": "code",
      "execution_count": 2,
      "metadata": {
        "id": "guUbrnjLn5Rj"
      },
      "outputs": [],
      "source": [
        "import pandas as pd\n",
        "from sklearn.model_selection import train_test_split\n",
        "from sklearn.naive_bayes import GaussianNB\n",
        "from sklearn.metrics import accuracy_score\n",
        "from sklearn.feature_selection import SelectKBest, chi2\n"
      ]
    },
    {
      "cell_type": "code",
      "source": [
        "#Data information and organize data\n",
        "data = pd.read_csv('ad.data', header=None)\n",
        "data.shape\n",
        "x = data.iloc[:, :-1].values\n",
        "y = data.iloc[:, -1].values\n",
        "x_train, x_test, y_train, y_test = train_test_split(x, y, test_size=0.3, random_state=0)\n",
        "x.shape"
      ],
      "metadata": {
        "colab": {
          "base_uri": "https://localhost:8080/"
        },
        "id": "TqkTyPGRoC5M",
        "outputId": "35c3f8c7-973b-40f7-deec-9e25ffee4038"
      },
      "execution_count": 11,
      "outputs": [
        {
          "output_type": "execute_result",
          "data": {
            "text/plain": [
              "(3279, 1558)"
            ]
          },
          "metadata": {},
          "execution_count": 11
        }
      ]
    },
    {
      "cell_type": "code",
      "source": [
        "#Naive Baise Model without featureSelection\n",
        "model1 = GaussianNB()\n",
        "model1.fit(x_train, y_train)\n",
        "pred1 = model1.predict(x_test)\n",
        "print(accuracy_score(y_test, pred1))\n"
      ],
      "metadata": {
        "colab": {
          "base_uri": "https://localhost:8080/"
        },
        "id": "NulRNHAnponA",
        "outputId": "fa5a93d8-8099-4c59-8675-e6616b8fc464"
      },
      "execution_count": 9,
      "outputs": [
        {
          "output_type": "stream",
          "name": "stdout",
          "text": [
            "0.7764227642276422\n"
          ]
        }
      ]
    },
    {
      "cell_type": "code",
      "source": [
        "#FeatureSelection\n",
        "selection = SelectKBest(chi2, k=7)\n",
        "X_new = selection.fit_transform(x, y)\n",
        "X_new.shape\n",
        "print(selection.get_support())\n"
      ],
      "metadata": {
        "colab": {
          "base_uri": "https://localhost:8080/"
        },
        "id": "jBneUxQep7A7",
        "outputId": "e8dbada6-fcdd-4356-fc90-b70e51b8ed25"
      },
      "execution_count": 13,
      "outputs": [
        {
          "output_type": "stream",
          "name": "stdout",
          "text": [
            "[ True  True  True ... False False False]\n"
          ]
        }
      ]
    },
    {
      "cell_type": "code",
      "source": [
        "#Naive Baise Model with featureSelection\n",
        "x_new_trein, x_new_test, y_train, y_test = train_test_split(X_new, y, test_size=0.3, random_state=0)\n",
        "model2 = GaussianNB()\n",
        "model2.fit(x_new_trein, y_train)\n",
        "pred2 = model2.predict(x_new_test)\n",
        "print(accuracy_score(y_test, pred2))"
      ],
      "metadata": {
        "colab": {
          "base_uri": "https://localhost:8080/"
        },
        "id": "K86TalN5qe1D",
        "outputId": "4c6e7eaf-1179-4608-b6a1-ad56631970bc"
      },
      "execution_count": 15,
      "outputs": [
        {
          "output_type": "stream",
          "name": "stdout",
          "text": [
            "0.9451219512195121\n"
          ]
        }
      ]
    }
  ]
}